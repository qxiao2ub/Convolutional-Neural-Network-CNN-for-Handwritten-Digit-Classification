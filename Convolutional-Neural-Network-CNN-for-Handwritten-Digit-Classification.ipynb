{
 "cells": [
  {
   "cell_type": "markdown",
   "id": "e178b778",
   "metadata": {},
   "source": [
    "### (a) plot training or validation accuracy vs epochs"
   ]
  },
  {
   "cell_type": "code",
   "execution_count": 1,
   "id": "71710b12",
   "metadata": {},
   "outputs": [],
   "source": [
    "# Data\n",
    "import numpy as np\n",
    "import tensorflow as tf\n",
    "from tensorflow.keras import layers, models\n",
    "from tensorflow.keras.callbacks import EarlyStopping, ModelCheckpoint\n",
    "import matplotlib.pyplot as plt"
   ]
  },
  {
   "cell_type": "code",
   "execution_count": 2,
   "id": "addf307f",
   "metadata": {},
   "outputs": [],
   "source": [
    "# use MNIST for 60k train and 10k test\n",
    "(x_train, y_train), (x_test, y_test) = tf.keras.datasets.mnist.load_data()\n",
    "x_train = x_train.astype(\"float32\")/255.0\n",
    "x_test  = x_test.astype(\"float32\")/255.0\n",
    "\n",
    "x_train = np.expand_dims(x_train, -1)\n",
    "x_test  = np.expand_dims(x_test, -1)"
   ]
  },
  {
   "cell_type": "code",
   "execution_count": 3,
   "id": "27fa0ca1",
   "metadata": {},
   "outputs": [],
   "source": [
    "# Model \n",
    "model = models.Sequential()\n",
    "model.add(layers.Conv2D(32, (3, 3), activation='relu', input_shape=(28, 28, 1)))  \n",
    "model.add(layers.MaxPooling2D((2, 2)))                                            \n",
    "model.add(layers.Conv2D(64, (3, 3), activation='relu'))                           \n",
    "model.add(layers.MaxPooling2D((2, 2)))                                            \n",
    "model.add(layers.Conv2D(64, (3, 3), activation='relu'))                           \n",
    "model.add(layers.Flatten())\n",
    "model.add(layers.Dense(64, activation='relu'))\n",
    "model.add(layers.Dense(10, activation='softmax'))\n",
    "\n",
    "model.compile(optimizer=\"adam\",\n",
    "              loss=\"sparse_categorical_crossentropy\",\n",
    "              metrics=[\"accuracy\"])"
   ]
  },
  {
   "cell_type": "code",
   "execution_count": 4,
   "id": "edadde69",
   "metadata": {},
   "outputs": [
    {
     "name": "stdout",
     "output_type": "stream",
     "text": [
      "Epoch 1/4\n",
      "422/422 - 16s - loss: 0.2829 - accuracy: 0.9143 - val_loss: 0.0787 - val_accuracy: 0.9773 - 16s/epoch - 38ms/step\n",
      "Epoch 2/4\n",
      "422/422 - 14s - loss: 0.0662 - accuracy: 0.9795 - val_loss: 0.0480 - val_accuracy: 0.9878 - 14s/epoch - 34ms/step\n",
      "Epoch 3/4\n",
      "422/422 - 14s - loss: 0.0458 - accuracy: 0.9861 - val_loss: 0.0438 - val_accuracy: 0.9883 - 14s/epoch - 33ms/step\n",
      "Epoch 4/4\n",
      "422/422 - 14s - loss: 0.0358 - accuracy: 0.9886 - val_loss: 0.0367 - val_accuracy: 0.9893 - 14s/epoch - 33ms/step\n"
     ]
    }
   ],
   "source": [
    "# Train\n",
    "es = EarlyStopping(monitor=\"val_accuracy\", mode=\"max\", patience=3, restore_best_weights=True)\n",
    "ckpt = ModelCheckpoint(\"best.h5\", monitor=\"val_accuracy\", mode=\"max\", save_best_only=True)\n",
    "\n",
    "history = model.fit(\n",
    "    x_train, y_train,\n",
    "    epochs=4,\n",
    "    batch_size=128,\n",
    "    validation_split=0.1,\n",
    "    callbacks=[es, ckpt],\n",
    "    verbose=2\n",
    ")"
   ]
  },
  {
   "cell_type": "code",
   "execution_count": 5,
   "id": "d379ab9c",
   "metadata": {},
   "outputs": [
    {
     "data": {
      "image/png": "[encoded data removed]",
      "text/plain": [
       "<Figure size 432x288 with 1 Axes>"
      ]
     },
     "metadata": {
      "needs_background": "light"
     },
     "output_type": "display_data"
    }
   ],
   "source": [
    "# Plot training vs validation accuracy\n",
    "plt.figure()\n",
    "plt.plot(history.history[\"accuracy\"], label=\"train acc\")\n",
    "plt.plot(history.history[\"val_accuracy\"], label=\"val acc\")\n",
    "plt.xlabel(\"Epoch\")\n",
    "plt.ylabel(\"Accuracy\")\n",
    "plt.title(\"Training vs Validation Accuracy\")\n",
    "plt.legend()\n",
    "plt.show()"
   ]
  },
  {
   "cell_type": "markdown",
   "id": "f212a3a1",
   "metadata": {},
   "source": [
    "## (b) evaluate on the test set with the best validation-optimal epoch"
   ]
  },
  {
   "cell_type": "code",
   "execution_count": 6,
   "id": "bc7b0d25",
   "metadata": {},
   "outputs": [
    {
     "name": "stdout",
     "output_type": "stream",
     "text": [
      "Test accuracy: 0.9896\n"
     ]
    }
   ],
   "source": [
    "model.load_weights(\"best.h5\")\n",
    "test_loss, test_acc = model.evaluate(x_test, y_test, verbose=0)\n",
    "print(f\"Test accuracy: {test_acc:.4f}\")"
   ]
  }
 ],
 "metadata": {
  "kernelspec": {
   "display_name": "Python 3",
   "language": "python",
   "name": "python3"
  },
  "language_info": {
   "codemirror_mode": {
    "name": "ipython",
    "version": 3
   },
   "file_extension": ".py",
   "mimetype": "text/x-python",
   "name": "python",
   "nbconvert_exporter": "python",
   "pygments_lexer": "ipython3",
   "version": "3.7.6"
  }
 },
 "nbformat": 4,
 "nbformat_minor": 5
}
